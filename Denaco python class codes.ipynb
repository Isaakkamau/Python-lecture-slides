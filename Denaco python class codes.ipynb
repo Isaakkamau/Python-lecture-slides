{
 "cells": [
  {
   "cell_type": "markdown",
   "id": "35c9a8f6",
   "metadata": {},
   "source": [
    "# Python code used in Day 2 presentation slides"
   ]
  },
  {
   "cell_type": "markdown",
   "id": "60e09f80",
   "metadata": {},
   "source": [
    "## Python Operators\n",
    "Operators are used to perform operations on variables and values.\n",
    "In the example below, we use the + operator to add together two values:"
   ]
  },
  {
   "cell_type": "code",
   "execution_count": null,
   "id": "e9b796c7",
   "metadata": {},
   "outputs": [],
   "source": [
    "# Basic Arithmetic:\n",
    "print( 2 * 3 ) # Basic Arithmetic: +, -, /, *\n",
    "print( 2**3 ) # Basic Arithmetic: +, -, /, * Exponentiation\n",
    "print( 10 % 3 ) # Modulus Op. : returns remainder of 10/3\n",
    "print( 1 + 2 * 3 ) # order of operations\n",
    "print(10 / 3.0) # int's and doubles : Division\n",
    "print(10 // 3) #Floor division\n"
   ]
  },
  {
   "cell_type": "code",
   "execution_count": 3,
   "id": "4fc3b39e",
   "metadata": {},
   "outputs": [
    {
     "name": "stdout",
     "output_type": "stream",
     "text": [
      "var1[0]: G\n",
      "var2[1:5]: oftw\n"
     ]
    }
   ],
   "source": [
    "var1 = \"Guru99!\"\n",
    "var2 = \"Software Testing\"\n",
    "print (\"var1[0]:\",var1[0])\n",
    "print (\"var2[1:5]:\",var2[1:5])\n"
   ]
  },
  {
   "cell_type": "code",
   "execution_count": 4,
   "id": "df6c633e",
   "metadata": {},
   "outputs": [
    {
     "name": "stdout",
     "output_type": "stream",
     "text": [
      "G\n",
      "oftw\n"
     ]
    }
   ],
   "source": [
    "var1 = \"Guru99!\"\n",
    "var2 = \"Software Testing\"\n",
    "print (var1[0])\n",
    "print (var2[1:5])\n"
   ]
  },
  {
   "cell_type": "code",
   "execution_count": 5,
   "id": "473a7118",
   "metadata": {},
   "outputs": [
    {
     "name": "stdout",
     "output_type": "stream",
     "text": [
      "Hello \n",
      "Hello Guru99\n"
     ]
    }
   ],
   "source": [
    "x = \"Hello World!\"\n",
    "print(x[:6]) \n",
    "print(x[0:6] + \"Guru99\")\n"
   ]
  },
  {
   "cell_type": "markdown",
   "id": "5fa86b51",
   "metadata": {},
   "source": [
    "## Python String replace() Method"
   ]
  },
  {
   "cell_type": "code",
   "execution_count": 6,
   "id": "3cb2cbbe",
   "metadata": {},
   "outputs": [
    {
     "name": "stdout",
     "output_type": "stream",
     "text": [
      "I love Guru99\n"
     ]
    }
   ],
   "source": [
    "oldstring = 'I like Guru99' \n",
    "newstring = oldstring.replace('like', 'love')\n",
    "print(newstring)\n"
   ]
  },
  {
   "cell_type": "markdown",
   "id": "8532764a",
   "metadata": {},
   "source": [
    "## Changing upper and lower case strings"
   ]
  },
  {
   "cell_type": "code",
   "execution_count": 7,
   "id": "c7f7df01",
   "metadata": {},
   "outputs": [
    {
     "name": "stdout",
     "output_type": "stream",
     "text": [
      "PYTHON AT GURU99\n"
     ]
    }
   ],
   "source": [
    "string=\"python at guru99\"\n",
    "print(string.upper())\n"
   ]
  },
  {
   "cell_type": "markdown",
   "id": "dbd270a0",
   "metadata": {},
   "source": [
    "## Using “join” function for the string\n",
    "The join function is a more flexible way for concatenating string. With join function, you can add any character into the string.\n",
    "For example, if you want to add a colon (:) after every character in the string “Python” you can use the following code.\n"
   ]
  },
  {
   "cell_type": "code",
   "execution_count": 9,
   "id": "3fd5d146",
   "metadata": {},
   "outputs": [
    {
     "name": "stdout",
     "output_type": "stream",
     "text": [
      "P:y:t:h:o:n\n"
     ]
    }
   ],
   "source": [
    "print(\":\".join(\"Python\"))\n"
   ]
  },
  {
   "attachments": {},
   "cell_type": "markdown",
   "id": "64d142e1",
   "metadata": {},
   "source": [
    "## Reversing String\n",
    "By using the reverse function, you can reverse the string. For example, if we have string “12345” and then if you apply the code for the reverse function"
   ]
  },
  {
   "cell_type": "code",
   "execution_count": 10,
   "id": "7efa77d0",
   "metadata": {},
   "outputs": [
    {
     "name": "stdout",
     "output_type": "stream",
     "text": [
      "54321\n"
     ]
    }
   ],
   "source": [
    "string=\"12345\"\n",
    "print(''.join(reversed(string)))\n"
   ]
  },
  {
   "attachments": {},
   "cell_type": "markdown",
   "id": "675a9cfc",
   "metadata": {},
   "source": [
    "## Split Strings\n",
    "\n",
    "Split strings is another function that can be applied in Python let see for string “guru99 career guru99”. First here we will split the string by using the command word.split and get the result."
   ]
  },
  {
   "cell_type": "code",
   "execution_count": 11,
   "id": "b8a90fbd",
   "metadata": {},
   "outputs": [
    {
     "name": "stdout",
     "output_type": "stream",
     "text": [
      "['guru99', 'career', 'guru99']\n"
     ]
    }
   ],
   "source": [
    "word=\"guru99 career guru99\"\n",
    "print(word.split(' '))\n"
   ]
  },
  {
   "cell_type": "code",
   "execution_count": 12,
   "id": "ccb45775",
   "metadata": {},
   "outputs": [
    {
     "name": "stdout",
     "output_type": "stream",
     "text": [
      "['gu', 'u99 ca', 'ee', ' gu', 'u99']\n"
     ]
    }
   ],
   "source": [
    "word=\"guru99 career guru99\"\n",
    "print(word.split('r'))\n"
   ]
  },
  {
   "cell_type": "code",
   "execution_count": null,
   "id": "1e11a171",
   "metadata": {},
   "outputs": [],
   "source": []
  }
 ],
 "metadata": {
  "kernelspec": {
   "display_name": "Python 3 (ipykernel)",
   "language": "python",
   "name": "python3"
  },
  "language_info": {
   "codemirror_mode": {
    "name": "ipython",
    "version": 3
   },
   "file_extension": ".py",
   "mimetype": "text/x-python",
   "name": "python",
   "nbconvert_exporter": "python",
   "pygments_lexer": "ipython3",
   "version": "3.9.13"
  }
 },
 "nbformat": 4,
 "nbformat_minor": 5
}
