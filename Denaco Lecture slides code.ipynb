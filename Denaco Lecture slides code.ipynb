{
 "cells": [
  {
   "cell_type": "markdown",
   "id": "d50f92b7",
   "metadata": {},
   "source": [
    "# A program for reloading phone balance"
   ]
  },
  {
   "cell_type": "code",
   "execution_count": 6,
   "id": "822633ca",
   "metadata": {},
   "outputs": [
    {
     "name": "stdout",
     "output_type": "stream",
     "text": [
      "Your phone_balance is:  60\n",
      "Your bank_balance is:  950\n"
     ]
    }
   ],
   "source": [
    "phone_balance = 10\n",
    "bank_balance = 1000\n",
    "\n",
    "if phone_balance < 20:\n",
    "    phone_balance += 50\n",
    "    bank_balance -= 50\n",
    "    \n",
    "print(\"Your phone_balance is: \", phone_balance)\n",
    "print(\"Your bank_balance is: \", bank_balance)"
   ]
  },
  {
   "cell_type": "markdown",
   "id": "26accaea",
   "metadata": {},
   "source": [
    "# A program for checking whether a number is odd or even"
   ]
  },
  {
   "cell_type": "code",
   "execution_count": 9,
   "id": "4d125fc4",
   "metadata": {},
   "outputs": [
    {
     "name": "stdout",
     "output_type": "stream",
     "text": [
      "Number 145 is odd.\n"
     ]
    }
   ],
   "source": [
    "number = 145\n",
    "\n",
    "if number % 2 == 0: # == is called comparison operators\n",
    "    print(\"Number \" + str(number) + \" is even.\")\n",
    "else:\n",
    "    print(\"Number \" + str(number) + \" is odd.\")\n"
   ]
  },
  {
   "cell_type": "code",
   "execution_count": 10,
   "id": "92f340dc",
   "metadata": {},
   "outputs": [
    {
     "name": "stdout",
     "output_type": "stream",
     "text": [
      "Please Enter your Name: Isaak Kamau\n",
      "Hello Isaak Kamau and Welcome to Data Analysis Class\n"
     ]
    }
   ],
   "source": [
    "name = input('Please Enter your Name: ')\n",
    "print(\"Hello \" + name + \" and Welcome to Data Analysis Class\")\n"
   ]
  },
  {
   "cell_type": "code",
   "execution_count": 11,
   "id": "5b62208e",
   "metadata": {},
   "outputs": [
    {
     "name": "stdout",
     "output_type": "stream",
     "text": [
      "Please Enter your Name: Isaak Kamau\n",
      "Please Enter Your Number: 346\n",
      "Hello Isaak KamauYour Number: 346 is even.\n"
     ]
    }
   ],
   "source": [
    "name = input('Please Enter your Name: ')\n",
    "number = input(\"Please Enter Your Number: \")\n",
    "number = int(number)\n",
    "\n",
    "if number % 2 == 0:\n",
    "    print(\"Hello \" + name + \"Your Number: \" + str(number) + \" is even.\")\n",
    "else:\n",
    "    print(\"Hello \" + name + \" Your Number: \" + str(number) + \" is odd.\")\n"
   ]
  },
  {
   "cell_type": "markdown",
   "id": "d2f8491b",
   "metadata": {},
   "source": [
    "# Nested If"
   ]
  },
  {
   "cell_type": "code",
   "execution_count": 28,
   "id": "ffac65f5",
   "metadata": {},
   "outputs": [
    {
     "name": "stdout",
     "output_type": "stream",
     "text": [
      "Above ten!\n",
      "But not above 20!\n"
     ]
    }
   ],
   "source": [
    "x = 11\n",
    "\n",
    "if x > 10:\n",
    "    print(\"Above ten!\")\n",
    "    if x > 20:\n",
    "        print(\"and also above 20!\")\n",
    "    else:\n",
    "            print(\"But not above 20!\")"
   ]
  },
  {
   "cell_type": "markdown",
   "id": "89c16557",
   "metadata": {},
   "source": [
    "# A simple program"
   ]
  },
  {
   "cell_type": "code",
   "execution_count": 33,
   "id": "b181a016",
   "metadata": {},
   "outputs": [
    {
     "name": "stdout",
     "output_type": "stream",
     "text": [
      "What season are we in? winter\n",
      "stay indoors!\n"
     ]
    }
   ],
   "source": [
    "season = input('What season are we in? ')\n",
    "\n",
    "if season == 'spring':\n",
    "    print('plant the garden!')\n",
    "elif season == 'summer':\n",
    "    print('water the garden!')\n",
    "elif season == 'fall':\n",
    "    print('harvest the garden!')\n",
    "elif season == 'winter':\n",
    "    print('stay indoors!')\n",
    "else:\n",
    "    print('unrecognized season')\n"
   ]
  },
  {
   "cell_type": "markdown",
   "id": "9ee6b9e2",
   "metadata": {},
   "source": [
    "# A simple project:\n",
    "Let’s combine all that we have learned and build a simple Calculator for `addition`, `Subtraction`, `multiplication`, and `division` “`+` `-` `*` `/`,”\n"
   ]
  },
  {
   "cell_type": "code",
   "execution_count": 34,
   "id": "43d1deba",
   "metadata": {},
   "outputs": [
    {
     "name": "stdout",
     "output_type": "stream",
     "text": [
      "num1: 23\n",
      "Operator: *\n",
      "num2: 567\n",
      "13041\n"
     ]
    }
   ],
   "source": [
    "num1 = int(input(\"num1: \"))\n",
    "op = input(\"Operator: \")\n",
    "num2 = int(input(\"num2: \"))\n",
    "\n",
    "if op == \"+\":\n",
    "     print(num1 + num2)\n",
    "elif op == \"-\":\n",
    "     print(num1 - num2)\n",
    "elif op == \"/\":\n",
    "     print(num1 / num2)\n",
    "elif op == \"*\":\n",
    "     print(num1 * num2)\n",
    "else:\n",
    "     print(\"Invalid Operator\")"
   ]
  },
  {
   "cell_type": "code",
   "execution_count": null,
   "id": "6f6217ef",
   "metadata": {},
   "outputs": [],
   "source": []
  }
 ],
 "metadata": {
  "kernelspec": {
   "display_name": "Python 3 (ipykernel)",
   "language": "python",
   "name": "python3"
  },
  "language_info": {
   "codemirror_mode": {
    "name": "ipython",
    "version": 3
   },
   "file_extension": ".py",
   "mimetype": "text/x-python",
   "name": "python",
   "nbconvert_exporter": "python",
   "pygments_lexer": "ipython3",
   "version": "3.9.13"
  }
 },
 "nbformat": 4,
 "nbformat_minor": 5
}
