{
 "cells": [
  {
   "cell_type": "markdown",
   "id": "a6b9131c",
   "metadata": {},
   "source": [
    "# Data Structures"
   ]
  },
  {
   "cell_type": "code",
   "execution_count": 1,
   "id": "17d9c364",
   "metadata": {},
   "outputs": [],
   "source": [
    "list_of_random_things = [1, 3.4, 'a string', True]\n"
   ]
  },
  {
   "cell_type": "code",
   "execution_count": 3,
   "id": "9f5fd9a7",
   "metadata": {},
   "outputs": [
    {
     "data": {
      "text/plain": [
       "1"
      ]
     },
     "execution_count": 3,
     "metadata": {},
     "output_type": "execute_result"
    }
   ],
   "source": [
    "list_of_random_things[0]"
   ]
  },
  {
   "cell_type": "code",
   "execution_count": 5,
   "id": "cd7fe577",
   "metadata": {},
   "outputs": [
    {
     "data": {
      "text/plain": [
       "4"
      ]
     },
     "execution_count": 5,
     "metadata": {},
     "output_type": "execute_result"
    }
   ],
   "source": [
    "len(list_of_random_things)"
   ]
  },
  {
   "cell_type": "code",
   "execution_count": 4,
   "id": "f49acf1b",
   "metadata": {},
   "outputs": [
    {
     "data": {
      "text/plain": [
       "True"
      ]
     },
     "execution_count": 4,
     "metadata": {},
     "output_type": "execute_result"
    }
   ],
   "source": [
    "list_of_random_things[len(list_of_random_things) - 1]"
   ]
  },
  {
   "cell_type": "code",
   "execution_count": 6,
   "id": "7a4427dd",
   "metadata": {},
   "outputs": [
    {
     "data": {
      "text/plain": [
       "True"
      ]
     },
     "execution_count": 6,
     "metadata": {},
     "output_type": "execute_result"
    }
   ],
   "source": [
    "list_of_random_things[-1] "
   ]
  },
  {
   "cell_type": "code",
   "execution_count": 7,
   "id": "3ca62c67",
   "metadata": {},
   "outputs": [
    {
     "data": {
      "text/plain": [
       "'a string'"
      ]
     },
     "execution_count": 7,
     "metadata": {},
     "output_type": "execute_result"
    }
   ],
   "source": [
    "list_of_random_things[-2]"
   ]
  },
  {
   "cell_type": "markdown",
   "id": "1683d44b",
   "metadata": {},
   "source": [
    "# Slice and Dice with Lists"
   ]
  },
  {
   "cell_type": "code",
   "execution_count": 8,
   "id": "aed3778a",
   "metadata": {},
   "outputs": [],
   "source": [
    "list_of_random_things = [1, 3.4, 'a string', True] "
   ]
  },
  {
   "cell_type": "code",
   "execution_count": 10,
   "id": "cee20b2c",
   "metadata": {},
   "outputs": [
    {
     "data": {
      "text/plain": [
       "[3.4]"
      ]
     },
     "execution_count": 10,
     "metadata": {},
     "output_type": "execute_result"
    }
   ],
   "source": [
    "list_of_random_things[1:2]"
   ]
  },
  {
   "cell_type": "markdown",
   "id": "6ec2904a",
   "metadata": {},
   "source": [
    "# Mutability and Order"
   ]
  },
  {
   "cell_type": "code",
   "execution_count": 18,
   "id": "59e71e83",
   "metadata": {},
   "outputs": [],
   "source": [
    "my_lst = [1, 2, 3, 4, 5]"
   ]
  },
  {
   "cell_type": "code",
   "execution_count": 21,
   "id": "e2374c0d",
   "metadata": {},
   "outputs": [],
   "source": [
    "my_lst[0] = \"one\""
   ]
  },
  {
   "cell_type": "code",
   "execution_count": 25,
   "id": "9ae16dd0",
   "metadata": {},
   "outputs": [
    {
     "data": {
      "text/plain": [
       "['one', 2, 3, 4, 5]"
      ]
     },
     "execution_count": 25,
     "metadata": {},
     "output_type": "execute_result"
    }
   ],
   "source": [
    "my_lst"
   ]
  },
  {
   "cell_type": "markdown",
   "id": "c3b6dbd2",
   "metadata": {},
   "source": [
    "# methods"
   ]
  },
  {
   "cell_type": "code",
   "execution_count": 26,
   "id": "cd3e2c1d",
   "metadata": {},
   "outputs": [],
   "source": [
    "name = \"-\".join([\"García\", \"O'Kelly\", \"Davis\"]) "
   ]
  },
  {
   "cell_type": "code",
   "execution_count": 27,
   "id": "96c3e2f1",
   "metadata": {},
   "outputs": [
    {
     "name": "stdout",
     "output_type": "stream",
     "text": [
      "García-O'Kelly-Davis\n"
     ]
    }
   ],
   "source": [
    "print(name)"
   ]
  },
  {
   "cell_type": "code",
   "execution_count": 28,
   "id": "820c38a4",
   "metadata": {},
   "outputs": [],
   "source": [
    "name2 = [\"García\", \"O'Kelly\", \"Davis\"]"
   ]
  },
  {
   "cell_type": "code",
   "execution_count": 29,
   "id": "f4f8980e",
   "metadata": {},
   "outputs": [
    {
     "name": "stdout",
     "output_type": "stream",
     "text": [
      "García-O'Kelly-Davis\n"
     ]
    }
   ],
   "source": [
    "print(\"-\".join(name2))"
   ]
  },
  {
   "cell_type": "code",
   "execution_count": 30,
   "id": "70d952ae",
   "metadata": {},
   "outputs": [],
   "source": [
    "# Append Method\n",
    "letters = ['a', 'b', 'c', 'd'] "
   ]
  },
  {
   "cell_type": "code",
   "execution_count": 31,
   "id": "a59edf1b",
   "metadata": {},
   "outputs": [
    {
     "data": {
      "text/plain": [
       "['a', 'b', 'c', 'd', 'z']"
      ]
     },
     "execution_count": 31,
     "metadata": {},
     "output_type": "execute_result"
    }
   ],
   "source": [
    "letters.append('z') \n",
    "letters"
   ]
  },
  {
   "cell_type": "markdown",
   "id": "f8ec2873",
   "metadata": {},
   "source": [
    "# Tuples"
   ]
  },
  {
   "cell_type": "code",
   "execution_count": 32,
   "id": "e108533f",
   "metadata": {},
   "outputs": [],
   "source": [
    "location = (13.4125, 103.866667) "
   ]
  },
  {
   "cell_type": "code",
   "execution_count": 33,
   "id": "624daaba",
   "metadata": {},
   "outputs": [
    {
     "name": "stdout",
     "output_type": "stream",
     "text": [
      "Latitude: 13.4125\n",
      "Longitude: 103.866667\n"
     ]
    }
   ],
   "source": [
    "print(\"Latitude:\", location[0]) \n",
    "print(\"Longitude:\", location[1])"
   ]
  },
  {
   "cell_type": "code",
   "execution_count": 36,
   "id": "e8bece9e",
   "metadata": {},
   "outputs": [
    {
     "name": "stdout",
     "output_type": "stream",
     "text": [
      "The dimensions are 52 x 40 x 100\n",
      "The dimensions are 52 x 40 x 100\n"
     ]
    }
   ],
   "source": [
    "length, width, height = 52, 40, 100 \n",
    "print(\"The dimensions are {} x {} x {}\".format(length, width, height))\n",
    "print(f\"The dimensions are {length} x {width} x {height}\")"
   ]
  },
  {
   "cell_type": "markdown",
   "id": "073c9eb4",
   "metadata": {},
   "source": [
    "# SETs"
   ]
  },
  {
   "cell_type": "code",
   "execution_count": 37,
   "id": "517cacfb",
   "metadata": {},
   "outputs": [],
   "source": [
    "numbers = [1, 2, 6, 3, 1, 1, 6] "
   ]
  },
  {
   "cell_type": "code",
   "execution_count": 38,
   "id": "f2c52dc6",
   "metadata": {},
   "outputs": [],
   "source": [
    "unique_nums = set(numbers) "
   ]
  },
  {
   "cell_type": "code",
   "execution_count": 39,
   "id": "7e65b193",
   "metadata": {},
   "outputs": [
    {
     "data": {
      "text/plain": [
       "{1, 2, 3, 6}"
      ]
     },
     "execution_count": 39,
     "metadata": {},
     "output_type": "execute_result"
    }
   ],
   "source": [
    "unique_nums"
   ]
  },
  {
   "cell_type": "markdown",
   "id": "381ca730",
   "metadata": {},
   "source": [
    "# SETS METHODS"
   ]
  },
  {
   "cell_type": "code",
   "execution_count": 40,
   "id": "6250526c",
   "metadata": {},
   "outputs": [],
   "source": [
    "fruit = {\"apple\", \"banana\", \"orange\", \"grapefruit\"} "
   ]
  },
  {
   "cell_type": "code",
   "execution_count": 41,
   "id": "7fd4f319",
   "metadata": {},
   "outputs": [
    {
     "name": "stdout",
     "output_type": "stream",
     "text": [
      "False\n"
     ]
    }
   ],
   "source": [
    "print(\"watermelon\" in fruit) # check for element"
   ]
  },
  {
   "cell_type": "code",
   "execution_count": 42,
   "id": "97645a34",
   "metadata": {},
   "outputs": [],
   "source": [
    "fruit.add(\"watermelon\") # add an element "
   ]
  },
  {
   "cell_type": "code",
   "execution_count": 44,
   "id": "932b088d",
   "metadata": {},
   "outputs": [
    {
     "data": {
      "text/plain": [
       "{'apple', 'banana', 'grapefruit', 'orange', 'watermelon'}"
      ]
     },
     "execution_count": 44,
     "metadata": {},
     "output_type": "execute_result"
    }
   ],
   "source": [
    "fruit"
   ]
  },
  {
   "cell_type": "code",
   "execution_count": 46,
   "id": "731a5d9a",
   "metadata": {},
   "outputs": [
    {
     "name": "stdout",
     "output_type": "stream",
     "text": [
      "True\n"
     ]
    }
   ],
   "source": [
    "print(\"watermelon\" in fruit)"
   ]
  },
  {
   "cell_type": "code",
   "execution_count": 47,
   "id": "0950aa16",
   "metadata": {},
   "outputs": [
    {
     "name": "stdout",
     "output_type": "stream",
     "text": [
      "grapefruit\n"
     ]
    }
   ],
   "source": [
    "print(fruit.pop()) # remove a random element "
   ]
  },
  {
   "cell_type": "code",
   "execution_count": 49,
   "id": "e9d9b7b3",
   "metadata": {},
   "outputs": [
    {
     "data": {
      "text/plain": [
       "{'apple', 'banana', 'orange', 'watermelon'}"
      ]
     },
     "execution_count": 49,
     "metadata": {},
     "output_type": "execute_result"
    }
   ],
   "source": [
    "fruit"
   ]
  },
  {
   "cell_type": "markdown",
   "id": "508d7775",
   "metadata": {},
   "source": [
    "# Dictionaries"
   ]
  },
  {
   "cell_type": "code",
   "execution_count": 50,
   "id": "6bf31439",
   "metadata": {},
   "outputs": [],
   "source": [
    "elements = {\"hydrogen\": 1, \"helium\": 2, \"carbon\": 6}"
   ]
  },
  {
   "cell_type": "code",
   "execution_count": 51,
   "id": "08ccc4d6",
   "metadata": {},
   "outputs": [
    {
     "name": "stdout",
     "output_type": "stream",
     "text": [
      "2\n"
     ]
    }
   ],
   "source": [
    "print(elements[\"helium\"])"
   ]
  },
  {
   "cell_type": "code",
   "execution_count": 52,
   "id": "915b9e49",
   "metadata": {},
   "outputs": [],
   "source": [
    "elements[\"lithium\"] = 3 #add an element"
   ]
  },
  {
   "cell_type": "code",
   "execution_count": 53,
   "id": "93cf6716",
   "metadata": {},
   "outputs": [
    {
     "name": "stdout",
     "output_type": "stream",
     "text": [
      "{'hydrogen': 1, 'helium': 2, 'carbon': 6, 'lithium': 3}\n"
     ]
    }
   ],
   "source": [
    "print(elements)"
   ]
  },
  {
   "cell_type": "markdown",
   "id": "6e44fde8",
   "metadata": {},
   "source": [
    "# Dictionary methods"
   ]
  },
  {
   "cell_type": "code",
   "execution_count": 54,
   "id": "b71b6d12",
   "metadata": {},
   "outputs": [
    {
     "name": "stdout",
     "output_type": "stream",
     "text": [
      "True\n"
     ]
    }
   ],
   "source": [
    "print(\"carbon\" in elements)"
   ]
  },
  {
   "cell_type": "code",
   "execution_count": 55,
   "id": "5b10f6b0",
   "metadata": {},
   "outputs": [
    {
     "name": "stdout",
     "output_type": "stream",
     "text": [
      "None\n"
     ]
    }
   ],
   "source": [
    "print(elements.get(\"dilithium\"))"
   ]
  },
  {
   "cell_type": "code",
   "execution_count": 56,
   "id": "021b8510",
   "metadata": {},
   "outputs": [
    {
     "name": "stdout",
     "output_type": "stream",
     "text": [
      "6\n"
     ]
    }
   ],
   "source": [
    "print(elements.get(\"carbon\"))"
   ]
  },
  {
   "cell_type": "code",
   "execution_count": null,
   "id": "ca11ec6c",
   "metadata": {},
   "outputs": [],
   "source": []
  }
 ],
 "metadata": {
  "kernelspec": {
   "display_name": "Python 3 (ipykernel)",
   "language": "python",
   "name": "python3"
  },
  "language_info": {
   "codemirror_mode": {
    "name": "ipython",
    "version": 3
   },
   "file_extension": ".py",
   "mimetype": "text/x-python",
   "name": "python",
   "nbconvert_exporter": "python",
   "pygments_lexer": "ipython3",
   "version": "3.9.13"
  }
 },
 "nbformat": 4,
 "nbformat_minor": 5
}
